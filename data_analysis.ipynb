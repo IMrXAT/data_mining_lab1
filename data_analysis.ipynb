{
 "cells": [
  {
   "cell_type": "code",
   "execution_count": 77,
   "id": "initial_id",
   "metadata": {
    "collapsed": true,
    "ExecuteTime": {
     "end_time": "2023-10-15T16:32:24.053388019Z",
     "start_time": "2023-10-15T16:32:22.271792570Z"
    }
   },
   "outputs": [
    {
     "name": "stdout",
     "output_type": "stream",
     "text": [
      "<class 'pandas.core.frame.DataFrame'>\n",
      "RangeIndex: 395 entries, 0 to 394\n",
      "Data columns (total 33 columns):\n",
      " #   Column      Non-Null Count  Dtype \n",
      "---  ------      --------------  ----- \n",
      " 0   school      395 non-null    object\n",
      " 1   sex         395 non-null    object\n",
      " 2   age         395 non-null    int64 \n",
      " 3   address     395 non-null    object\n",
      " 4   famsize     395 non-null    object\n",
      " 5   Pstatus     395 non-null    object\n",
      " 6   Medu        395 non-null    int64 \n",
      " 7   Fedu        395 non-null    int64 \n",
      " 8   Mjob        395 non-null    object\n",
      " 9   Fjob        395 non-null    object\n",
      " 10  reason      395 non-null    object\n",
      " 11  guardian    395 non-null    object\n",
      " 12  traveltime  395 non-null    int64 \n",
      " 13  studytime   395 non-null    int64 \n",
      " 14  failures    395 non-null    int64 \n",
      " 15  schoolsup   395 non-null    object\n",
      " 16  famsup      395 non-null    object\n",
      " 17  paid        395 non-null    object\n",
      " 18  activities  395 non-null    object\n",
      " 19  nursery     395 non-null    object\n",
      " 20  higher      395 non-null    object\n",
      " 21  internet    395 non-null    object\n",
      " 22  romantic    395 non-null    object\n",
      " 23  famrel      395 non-null    int64 \n",
      " 24  freetime    395 non-null    int64 \n",
      " 25  goout       395 non-null    int64 \n",
      " 26  Dalc        395 non-null    int64 \n",
      " 27  Walc        395 non-null    int64 \n",
      " 28  health      395 non-null    int64 \n",
      " 29  absences    395 non-null    int64 \n",
      " 30  G1          395 non-null    int64 \n",
      " 31  G2          395 non-null    int64 \n",
      " 32  G3          395 non-null    int64 \n",
      "dtypes: int64(16), object(17)\n",
      "memory usage: 102.0+ KB\n"
     ]
    }
   ],
   "source": [
    "import pandas as pd\n",
    "import numpy as np\n",
    "import matplotlib.pyplot as plt\n",
    "import seaborn as sns\n",
    "academic_level_data=pd.read_csv(\"student-mat.csv\", delimiter=\";\")\n",
    "academic_level_data.info()# 382 students\n"
   ]
  },
  {
   "cell_type": "code",
   "execution_count": 78,
   "outputs": [
    {
     "data": {
      "text/plain": "    school sex  age address famsize Pstatus  Medu  Fedu      Mjob      Fjob  \\\n0       GP   F   18       U     GT3       A     4     4   at_home   teacher   \n1       GP   F   17       U     GT3       T     1     1   at_home     other   \n2       GP   F   15       U     LE3       T     1     1   at_home     other   \n3       GP   F   15       U     GT3       T     4     2    health  services   \n4       GP   F   16       U     GT3       T     3     3     other     other   \n..     ...  ..  ...     ...     ...     ...   ...   ...       ...       ...   \n390     MS   M   20       U     LE3       A     2     2  services  services   \n391     MS   M   17       U     LE3       T     3     1  services  services   \n392     MS   M   21       R     GT3       T     1     1     other     other   \n393     MS   M   18       R     LE3       T     3     2  services     other   \n394     MS   M   19       U     LE3       T     1     1     other   at_home   \n\n     ... famrel freetime  goout  Dalc  Walc health absences  G1  G2  G3  \n0    ...      4        3      4     1     1      3        6   5   6   6  \n1    ...      5        3      3     1     1      3        4   5   5   6  \n2    ...      4        3      2     2     3      3       10   7   8  10  \n3    ...      3        2      2     1     1      5        2  15  14  15  \n4    ...      4        3      2     1     2      5        4   6  10  10  \n..   ...    ...      ...    ...   ...   ...    ...      ...  ..  ..  ..  \n390  ...      5        5      4     4     5      4       11   9   9   9  \n391  ...      2        4      5     3     4      2        3  14  16  16  \n392  ...      5        5      3     3     3      3        3  10   8   7  \n393  ...      4        4      1     3     4      5        0  11  12  10  \n394  ...      3        2      3     3     3      5        5   8   9   9  \n\n[395 rows x 33 columns]",
      "text/html": "<div>\n<style scoped>\n    .dataframe tbody tr th:only-of-type {\n        vertical-align: middle;\n    }\n\n    .dataframe tbody tr th {\n        vertical-align: top;\n    }\n\n    .dataframe thead th {\n        text-align: right;\n    }\n</style>\n<table border=\"1\" class=\"dataframe\">\n  <thead>\n    <tr style=\"text-align: right;\">\n      <th></th>\n      <th>school</th>\n      <th>sex</th>\n      <th>age</th>\n      <th>address</th>\n      <th>famsize</th>\n      <th>Pstatus</th>\n      <th>Medu</th>\n      <th>Fedu</th>\n      <th>Mjob</th>\n      <th>Fjob</th>\n      <th>...</th>\n      <th>famrel</th>\n      <th>freetime</th>\n      <th>goout</th>\n      <th>Dalc</th>\n      <th>Walc</th>\n      <th>health</th>\n      <th>absences</th>\n      <th>G1</th>\n      <th>G2</th>\n      <th>G3</th>\n    </tr>\n  </thead>\n  <tbody>\n    <tr>\n      <th>0</th>\n      <td>GP</td>\n      <td>F</td>\n      <td>18</td>\n      <td>U</td>\n      <td>GT3</td>\n      <td>A</td>\n      <td>4</td>\n      <td>4</td>\n      <td>at_home</td>\n      <td>teacher</td>\n      <td>...</td>\n      <td>4</td>\n      <td>3</td>\n      <td>4</td>\n      <td>1</td>\n      <td>1</td>\n      <td>3</td>\n      <td>6</td>\n      <td>5</td>\n      <td>6</td>\n      <td>6</td>\n    </tr>\n    <tr>\n      <th>1</th>\n      <td>GP</td>\n      <td>F</td>\n      <td>17</td>\n      <td>U</td>\n      <td>GT3</td>\n      <td>T</td>\n      <td>1</td>\n      <td>1</td>\n      <td>at_home</td>\n      <td>other</td>\n      <td>...</td>\n      <td>5</td>\n      <td>3</td>\n      <td>3</td>\n      <td>1</td>\n      <td>1</td>\n      <td>3</td>\n      <td>4</td>\n      <td>5</td>\n      <td>5</td>\n      <td>6</td>\n    </tr>\n    <tr>\n      <th>2</th>\n      <td>GP</td>\n      <td>F</td>\n      <td>15</td>\n      <td>U</td>\n      <td>LE3</td>\n      <td>T</td>\n      <td>1</td>\n      <td>1</td>\n      <td>at_home</td>\n      <td>other</td>\n      <td>...</td>\n      <td>4</td>\n      <td>3</td>\n      <td>2</td>\n      <td>2</td>\n      <td>3</td>\n      <td>3</td>\n      <td>10</td>\n      <td>7</td>\n      <td>8</td>\n      <td>10</td>\n    </tr>\n    <tr>\n      <th>3</th>\n      <td>GP</td>\n      <td>F</td>\n      <td>15</td>\n      <td>U</td>\n      <td>GT3</td>\n      <td>T</td>\n      <td>4</td>\n      <td>2</td>\n      <td>health</td>\n      <td>services</td>\n      <td>...</td>\n      <td>3</td>\n      <td>2</td>\n      <td>2</td>\n      <td>1</td>\n      <td>1</td>\n      <td>5</td>\n      <td>2</td>\n      <td>15</td>\n      <td>14</td>\n      <td>15</td>\n    </tr>\n    <tr>\n      <th>4</th>\n      <td>GP</td>\n      <td>F</td>\n      <td>16</td>\n      <td>U</td>\n      <td>GT3</td>\n      <td>T</td>\n      <td>3</td>\n      <td>3</td>\n      <td>other</td>\n      <td>other</td>\n      <td>...</td>\n      <td>4</td>\n      <td>3</td>\n      <td>2</td>\n      <td>1</td>\n      <td>2</td>\n      <td>5</td>\n      <td>4</td>\n      <td>6</td>\n      <td>10</td>\n      <td>10</td>\n    </tr>\n    <tr>\n      <th>...</th>\n      <td>...</td>\n      <td>...</td>\n      <td>...</td>\n      <td>...</td>\n      <td>...</td>\n      <td>...</td>\n      <td>...</td>\n      <td>...</td>\n      <td>...</td>\n      <td>...</td>\n      <td>...</td>\n      <td>...</td>\n      <td>...</td>\n      <td>...</td>\n      <td>...</td>\n      <td>...</td>\n      <td>...</td>\n      <td>...</td>\n      <td>...</td>\n      <td>...</td>\n      <td>...</td>\n    </tr>\n    <tr>\n      <th>390</th>\n      <td>MS</td>\n      <td>M</td>\n      <td>20</td>\n      <td>U</td>\n      <td>LE3</td>\n      <td>A</td>\n      <td>2</td>\n      <td>2</td>\n      <td>services</td>\n      <td>services</td>\n      <td>...</td>\n      <td>5</td>\n      <td>5</td>\n      <td>4</td>\n      <td>4</td>\n      <td>5</td>\n      <td>4</td>\n      <td>11</td>\n      <td>9</td>\n      <td>9</td>\n      <td>9</td>\n    </tr>\n    <tr>\n      <th>391</th>\n      <td>MS</td>\n      <td>M</td>\n      <td>17</td>\n      <td>U</td>\n      <td>LE3</td>\n      <td>T</td>\n      <td>3</td>\n      <td>1</td>\n      <td>services</td>\n      <td>services</td>\n      <td>...</td>\n      <td>2</td>\n      <td>4</td>\n      <td>5</td>\n      <td>3</td>\n      <td>4</td>\n      <td>2</td>\n      <td>3</td>\n      <td>14</td>\n      <td>16</td>\n      <td>16</td>\n    </tr>\n    <tr>\n      <th>392</th>\n      <td>MS</td>\n      <td>M</td>\n      <td>21</td>\n      <td>R</td>\n      <td>GT3</td>\n      <td>T</td>\n      <td>1</td>\n      <td>1</td>\n      <td>other</td>\n      <td>other</td>\n      <td>...</td>\n      <td>5</td>\n      <td>5</td>\n      <td>3</td>\n      <td>3</td>\n      <td>3</td>\n      <td>3</td>\n      <td>3</td>\n      <td>10</td>\n      <td>8</td>\n      <td>7</td>\n    </tr>\n    <tr>\n      <th>393</th>\n      <td>MS</td>\n      <td>M</td>\n      <td>18</td>\n      <td>R</td>\n      <td>LE3</td>\n      <td>T</td>\n      <td>3</td>\n      <td>2</td>\n      <td>services</td>\n      <td>other</td>\n      <td>...</td>\n      <td>4</td>\n      <td>4</td>\n      <td>1</td>\n      <td>3</td>\n      <td>4</td>\n      <td>5</td>\n      <td>0</td>\n      <td>11</td>\n      <td>12</td>\n      <td>10</td>\n    </tr>\n    <tr>\n      <th>394</th>\n      <td>MS</td>\n      <td>M</td>\n      <td>19</td>\n      <td>U</td>\n      <td>LE3</td>\n      <td>T</td>\n      <td>1</td>\n      <td>1</td>\n      <td>other</td>\n      <td>at_home</td>\n      <td>...</td>\n      <td>3</td>\n      <td>2</td>\n      <td>3</td>\n      <td>3</td>\n      <td>3</td>\n      <td>5</td>\n      <td>5</td>\n      <td>8</td>\n      <td>9</td>\n      <td>9</td>\n    </tr>\n  </tbody>\n</table>\n<p>395 rows × 33 columns</p>\n</div>"
     },
     "execution_count": 78,
     "metadata": {},
     "output_type": "execute_result"
    }
   ],
   "source": [
    "academic_level_data"
   ],
   "metadata": {
    "collapsed": false,
    "ExecuteTime": {
     "end_time": "2023-10-15T16:32:24.054966303Z",
     "start_time": "2023-10-15T16:32:22.322555668Z"
    }
   },
   "id": "2dbb60d84118e162"
  },
  {
   "cell_type": "code",
   "execution_count": 79,
   "outputs": [
    {
     "data": {
      "text/plain": "(395, 33)"
     },
     "execution_count": 79,
     "metadata": {},
     "output_type": "execute_result"
    }
   ],
   "source": [
    "academic_level_data.shape"
   ],
   "metadata": {
    "collapsed": false,
    "ExecuteTime": {
     "end_time": "2023-10-15T16:32:24.055608149Z",
     "start_time": "2023-10-15T16:32:22.328400307Z"
    }
   },
   "id": "591305fd3212c6d5"
  },
  {
   "cell_type": "code",
   "execution_count": 80,
   "outputs": [],
   "source": [
    "from enum import Enum\n",
    "class ColumnType(Enum):\n",
    "    ABSOLUTE = 1\n",
    "    ORDER = 2\n",
    "    NAME = 3"
   ],
   "metadata": {
    "collapsed": false,
    "ExecuteTime": {
     "end_time": "2023-10-15T16:32:24.055881510Z",
     "start_time": "2023-10-15T16:32:22.343699218Z"
    }
   },
   "id": "32c652ed34fd0f57"
  },
  {
   "cell_type": "code",
   "execution_count": 81,
   "outputs": [
    {
     "data": {
      "text/plain": "{'school': <ColumnType.NAME: 3>,\n 'sex': <ColumnType.NAME: 3>,\n 'address': <ColumnType.NAME: 3>,\n 'famsize': <ColumnType.NAME: 3>,\n 'Pstatus': <ColumnType.NAME: 3>,\n 'Mjob': <ColumnType.NAME: 3>,\n 'Fjob': <ColumnType.NAME: 3>,\n 'reason': <ColumnType.NAME: 3>,\n 'guardian': <ColumnType.NAME: 3>,\n 'schoolsup': <ColumnType.NAME: 3>,\n 'famsup': <ColumnType.NAME: 3>,\n 'paid': <ColumnType.NAME: 3>,\n 'activities': <ColumnType.NAME: 3>,\n 'nursery': <ColumnType.NAME: 3>,\n 'higher': <ColumnType.NAME: 3>,\n 'internet': <ColumnType.NAME: 3>,\n 'romantic': <ColumnType.NAME: 3>,\n 'age': <ColumnType.ABSOLUTE: 1>,\n 'absences': <ColumnType.ABSOLUTE: 1>,\n 'Medu': <ColumnType.ORDER: 2>,\n 'Fedu': <ColumnType.ORDER: 2>,\n 'traveltime': <ColumnType.ORDER: 2>,\n 'studytime': <ColumnType.ORDER: 2>,\n 'failures': <ColumnType.ORDER: 2>,\n 'famrel': <ColumnType.ORDER: 2>,\n 'freetime': <ColumnType.ORDER: 2>,\n 'goout': <ColumnType.ORDER: 2>,\n 'Dalc': <ColumnType.ORDER: 2>,\n 'Walc': <ColumnType.ORDER: 2>,\n 'health': <ColumnType.ORDER: 2>,\n 'G1': <ColumnType.ORDER: 2>,\n 'G2': <ColumnType.ORDER: 2>,\n 'G3': <ColumnType.ORDER: 2>}"
     },
     "execution_count": 81,
     "metadata": {},
     "output_type": "execute_result"
    }
   ],
   "source": [
    "categorical_columns = academic_level_data.columns[academic_level_data.dtypes == 'object']\n",
    "colunm_type_map = dict()\n",
    "for column in categorical_columns:\n",
    "    colunm_type_map[column] = ColumnType.NAME\n",
    "\n",
    "colunm_type_map['age'] = ColumnType.ABSOLUTE\n",
    "colunm_type_map['falures'] = ColumnType.ABSOLUTE\n",
    "colunm_type_map['absences'] = ColumnType.ABSOLUTE\n",
    "\n",
    "for column_name in academic_level_data:\n",
    "    if colunm_type_map.get(column_name) is None:\n",
    "        colunm_type_map[column_name] = ColumnType.ORDER\n",
    "colunm_type_map"
   ],
   "metadata": {
    "collapsed": false,
    "ExecuteTime": {
     "end_time": "2023-10-15T16:32:24.056533762Z",
     "start_time": "2023-10-15T16:32:22.362319245Z"
    }
   },
   "id": "c2aed0544c739d8e"
  },
  {
   "cell_type": "code",
   "execution_count": 82,
   "outputs": [],
   "source": [
    "def calcDiffMatrix(data, column_type_map):\n",
    "    matrix = np.zeros((data.shape[0], data.shape[0]))\n",
    "    print(\"here\")\n",
    "    for i, row1 in data[:-1].iterrows():\n",
    "        for j, row2 in data[i+1:].iterrows():\n",
    "            if j != i:\n",
    "                matrix[j, i] = matrix[i, j] = calcObjectsDiff(row1, row2, data, column_type_map)\n",
    "            print(i, ' diff beetwen obj_i = ', i, 'and obj_j = ', j, ' = ', matrix[i,j])\n",
    "    return matrix\n",
    "            \n",
    "            \n",
    "def calcObjectsDiff(obj1, obj2, data, column_type_map):\n",
    "    diff = 0\n",
    "    for i, column_name in enumerate(data):\n",
    "        if column_type_map[column_name] == ColumnType.NAME:\n",
    "            diff += calcNameColumnDiff(obj1[i], obj2[i], data[column_name]) ** 2\n",
    "        elif column_type_map[column_name] == ColumnType.ORDER:\n",
    "            diff += calcOrderColumnDiff(obj1[i], obj2[i], data[column_name]) ** 2\n",
    "        elif column_type_map[column_name] == ColumnType.ABSOLUTE:\n",
    "            diff += calcAbsoluteColumnDiff(obj1[i], obj2[i], data[column_name]) ** 2\n",
    "    return np.sqrt(diff)/np.sqrt(len(data))\n",
    "\n",
    "def calcNameColumnDiff(obj1_data, obj2_data, column_data):\n",
    "    return (1/len(column_data)) * calcNotNormolizedNameDiff(obj1_data, obj2_data, column_data)\n",
    "\n",
    "def calcNotNormolizedNameDiff(obj1_data, obj2_data, column_data):\n",
    "    diff = 0\n",
    "    for value in column_data:\n",
    "        if obj1_data != value == obj2_data or obj1_data == value != obj2_data:\n",
    "            diff += 1\n",
    "    return diff\n",
    "\n",
    "def calcOrderColumnDiff(obj1_data, obj2_data, column_data):\n",
    "    diff = 0\n",
    "    for value in column_data:\n",
    "        if obj1_data > value > obj2_data or obj1_data < value < obj2_data:\n",
    "            diff += 1\n",
    "        elif obj1_data == value != obj2_data or obj1_data != value == obj2_data:\n",
    "            diff += 0.5\n",
    "    return diff/len(column_data)\n",
    "\n",
    "def calcAbsoluteColumnDiff(obj1_data, obj2_data, column_data):\n",
    "    return np.abs(obj1_data - obj2_data) / (np.max(column_data) - np.min(column_data))"
   ],
   "metadata": {
    "collapsed": false,
    "ExecuteTime": {
     "end_time": "2023-10-15T16:32:24.056915448Z",
     "start_time": "2023-10-15T16:32:22.404549634Z"
    }
   },
   "id": "60043a99c0d99177"
  },
  {
   "cell_type": "code",
   "execution_count": null,
   "outputs": [
    {
     "name": "stdout",
     "output_type": "stream",
     "text": [
      "0\n",
      "1\n",
      "2\n",
      "3\n",
      "4\n",
      "5\n",
      "6\n",
      "7\n",
      "8\n",
      "9\n",
      "10\n",
      "11\n",
      "12\n",
      "13\n",
      "14\n",
      "15\n",
      "16\n",
      "17\n",
      "18\n",
      "19\n",
      "20\n",
      "21\n",
      "22\n",
      "23\n",
      "24\n",
      "25\n",
      "26\n",
      "27\n",
      "28\n",
      "29\n",
      "30\n",
      "31\n",
      "32\n",
      "33\n",
      "34\n",
      "35\n",
      "36\n",
      "37\n",
      "38\n",
      "39\n",
      "40\n",
      "41\n",
      "42\n",
      "43\n",
      "44\n"
     ]
    }
   ],
   "source": [
    "diff_matrix = calcDiffMatrix(academic_level_data, colunm_type_map)\n",
    "diff_matrix"
   ],
   "metadata": {
    "collapsed": false,
    "is_executing": true,
    "ExecuteTime": {
     "start_time": "2023-10-15T16:32:22.404849045Z"
    }
   },
   "id": "83340793329a7aa"
  },
  {
   "cell_type": "code",
   "execution_count": null,
   "outputs": [],
   "source": [
    "sub_matrix = diff_matrix[diff_matrix > 0.2]\n",
    "sub_matrix"
   ],
   "metadata": {
    "collapsed": false,
    "is_executing": true
   },
   "id": "6926ede0fb3c19d8"
  }
 ],
 "metadata": {
  "kernelspec": {
   "display_name": "Python 3",
   "language": "python",
   "name": "python3"
  },
  "language_info": {
   "codemirror_mode": {
    "name": "ipython",
    "version": 2
   },
   "file_extension": ".py",
   "mimetype": "text/x-python",
   "name": "python",
   "nbconvert_exporter": "python",
   "pygments_lexer": "ipython2",
   "version": "2.7.6"
  }
 },
 "nbformat": 4,
 "nbformat_minor": 5
}
